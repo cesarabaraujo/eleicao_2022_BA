{
 "cells": [
  {
   "cell_type": "markdown",
   "metadata": {},
   "source": [
    "### 1. Análise Exploratória de Dados"
   ]
  },
  {
   "cell_type": "code",
   "execution_count": null,
   "metadata": {},
   "outputs": [],
   "source": [
    "#importando as principais bibliotecas \n",
    "\n",
    "import pandas as pd \n",
    "\n",
    "import seaborn as sns \n",
    "import matplotlib.pyplot as plt\n",
    "\n",
    "from shapely.geometry import Point\n",
    "import geopandas as gpd\n",
    "from geopandas.tools import sjoin"
   ]
  },
  {
   "cell_type": "code",
   "execution_count": null,
   "metadata": {},
   "outputs": [],
   "source": [
    "#efetuando a importação dos dados\n",
    "\n",
    "df_eleitoral = pd.read_csv(r'C:\\Users\\cesar\\Downloads\\projeto_eleicao_2022\\perfil_eleitorado_2022\\perfil_eleitor_secao_2022_BA.csv', sep=\";\", encoding=\"latin-1\" )\n"
   ]
  },
  {
   "cell_type": "code",
   "execution_count": null,
   "metadata": {},
   "outputs": [],
   "source": [
    "#visualizando as primeiras linhas\n",
    "\n",
    "df_eleitoral.head(10)"
   ]
  },
  {
   "cell_type": "code",
   "execution_count": null,
   "metadata": {},
   "outputs": [],
   "source": [
    "#verificando o número de linhas e colunas\n",
    "\n",
    "df_eleitoral.shape"
   ]
  },
  {
   "cell_type": "code",
   "execution_count": null,
   "metadata": {},
   "outputs": [],
   "source": [
    "#principais informações do df\n",
    "\n",
    "df_eleitoral.info()"
   ]
  },
  {
   "cell_type": "code",
   "execution_count": null,
   "metadata": {},
   "outputs": [],
   "source": [
    "#principais estatisticas descritivas do df\n",
    "\n",
    "df_eleitoral.describe()"
   ]
  },
  {
   "cell_type": "code",
   "execution_count": null,
   "metadata": {},
   "outputs": [],
   "source": [
    "#visualizando colunas no df\n",
    "\n",
    "df_eleitoral.columns"
   ]
  },
  {
   "cell_type": "code",
   "execution_count": null,
   "metadata": {},
   "outputs": [],
   "source": [
    "#criando função para visualizar os valores únicos e/ou nulos por colunas (ter o pandas importado)\n",
    "\n",
    "def valores_unicos(df):\n",
    "\n",
    "    for colunas in df.columns:\n",
    "        print(f'Coluna {colunas}:')\n",
    "        contar_valores = df[colunas].value_counts(dropna=False)\n",
    "        porcentagem_valores = df[colunas].value_counts(dropna=False, normalize=True) * 100\n",
    "        resultado_valores = pd.concat([contar_valores, porcentagem_valores], axis=1, \n",
    "                                     keys=['Qnt', 'Porcentagem'])\n",
    "        print(resultado_valores)\n",
    "\n",
    "        print(f'Valores nulos: {df[colunas].isnull().sum()}')\n",
    "        print('\\n')\n",
    "\n",
    "valores_unicos(df_eleitoral)"
   ]
  },
  {
   "cell_type": "code",
   "execution_count": null,
   "metadata": {},
   "outputs": [],
   "source": [
    "#criando função para gerar gráfico em barras para a visualização dos valores por coluna\n",
    "\n",
    "def visualizar_barras (coluna, df):\n",
    "\n",
    "    valores_totais = len(df[coluna])\n",
    "    contador_valores = df[coluna].value_counts(dropna=False)\n",
    "    porcentagem_valores = (contador_valores/valores_totais) * 100\n",
    "\n",
    "    porcentagem_valores.plot(kind='bar')\n",
    "    plt.title(f'Dados referentes a coluna: {coluna}')\n",
    "    plt.xlabel(coluna)\n",
    "    plt.ylabel('%')\n",
    "    plt.show"
   ]
  },
  {
   "cell_type": "code",
   "execution_count": null,
   "metadata": {},
   "outputs": [],
   "source": [
    "visualizar_barras('DS_ESTADO_CIVIL', df_eleitoral)"
   ]
  },
  {
   "cell_type": "code",
   "execution_count": null,
   "metadata": {},
   "outputs": [],
   "source": [
    "visualizar_barras('DS_FAIXA_ETARIA', df_eleitoral)"
   ]
  },
  {
   "cell_type": "code",
   "execution_count": null,
   "metadata": {},
   "outputs": [],
   "source": [
    "visualizar_barras('DS_GRAU_ESCOLARIDADE', df_eleitoral)"
   ]
  },
  {
   "cell_type": "code",
   "execution_count": null,
   "metadata": {},
   "outputs": [],
   "source": [
    "visualizar_barras('DS_GENERO', df_eleitoral)"
   ]
  },
  {
   "cell_type": "markdown",
   "metadata": {},
   "source": [
    "### 2. Tratando dataframe eleitoral"
   ]
  },
  {
   "cell_type": "code",
   "execution_count": null,
   "metadata": {},
   "outputs": [],
   "source": [
    "#criando uma cópia do dataframe antes do tratamento \n",
    "\n",
    "df_tratado = df_eleitoral.copy()\n"
   ]
  },
  {
   "cell_type": "code",
   "execution_count": null,
   "metadata": {},
   "outputs": [],
   "source": [
    "#tratando os valores nulos (#NULO, #NE, -1 ou -3, assim como descrito no material do TSE)\n",
    "\n",
    "df_tratado.replace({'#NULO': None, '#NE': None, '-1': None, '-3': None}, inplace= True)"
   ]
  },
  {
   "cell_type": "code",
   "execution_count": null,
   "metadata": {},
   "outputs": [],
   "source": [
    "df_tratado.head(5)"
   ]
  },
  {
   "cell_type": "code",
   "execution_count": null,
   "metadata": {},
   "outputs": [],
   "source": [
    "#verificando o número de linhas do df_tratado\n",
    "\n",
    "df_tratado.shape"
   ]
  },
  {
   "cell_type": "markdown",
   "metadata": {},
   "source": [
    "### 3. Dados geoespaciais dos muninicipios da Bahia"
   ]
  },
  {
   "cell_type": "code",
   "execution_count": null,
   "metadata": {},
   "outputs": [],
   "source": [
    "#visualizando dados do nosso arquivo SHP que contém dados geoespaciais da divisão político-administrativa da bahia\n",
    "\n",
    "df_geoespacial = gpd.read_file(r'C:\\Users\\cesar\\Downloads\\projeto_eleicao_2022\\DIVISAO_POLITICO_ADMINISTRATIVA_2017_06_14\\DPA_A_100K_2017_06_14_GCS_SIR_SEI.shp')\n",
    "\n",
    "print(df_geoespacial.head(5))"
   ]
  },
  {
   "cell_type": "code",
   "execution_count": null,
   "metadata": {},
   "outputs": [],
   "source": [
    "df_geoespacial.columns"
   ]
  },
  {
   "cell_type": "code",
   "execution_count": null,
   "metadata": {},
   "outputs": [],
   "source": [
    "valores_unicos(df_geoespacial)"
   ]
  },
  {
   "cell_type": "code",
   "execution_count": null,
   "metadata": {},
   "outputs": [],
   "source": [
    "# Contar o número de municípios únicos em cada conjunto de dados\n",
    "num_municipios_geoespacial = df_geoespacial['MUNICIPIO'].nunique()\n",
    "num_municipios_eleitoral = df_eleitoral['NM_MUNICIPIO'].nunique()\n",
    "\n",
    "print(num_municipios_eleitoral)\n",
    "print(num_municipios_geoespacial)\n"
   ]
  },
  {
   "cell_type": "code",
   "execution_count": null,
   "metadata": {},
   "outputs": [],
   "source": [
    "df_geoespacial.plot()\n",
    "\n",
    "plt.show()"
   ]
  },
  {
   "cell_type": "code",
   "execution_count": null,
   "metadata": {},
   "outputs": [],
   "source": [
    "#verificando o tipo de variáveis em cada coluna para unir os dois dataframes (df_mapa e df_tratado)\n",
    "\n",
    "df_geoespacial.info()"
   ]
  },
  {
   "cell_type": "code",
   "execution_count": null,
   "metadata": {},
   "outputs": [],
   "source": [
    "#Tratando os dataframes antes de os unir em um GeoDataFrame\n",
    "\n",
    "df_tratado['NM_MUNICIPIO'] = df_tratado['NM_MUNICIPIO'].str.upper()\n",
    "df_geoespacial['MUNICIPIO'] = df_geoespacial['MUNICIPIO'].str.upper()\n",
    "\n",
    "#df_geoespacial['geometry'] = df_geoespacial['geometry'].simplify(tolerance=0.1)"
   ]
  },
  {
   "cell_type": "code",
   "execution_count": null,
   "metadata": {},
   "outputs": [],
   "source": [
    "#unindo os dataframe df_geoespacial e df_tratado\n",
    "df_bahia = pd.merge(df_geoespacial, df_tratado, left_on='MUNICIPIO', right_on='NM_MUNICIPIO', how='left')\n",
    "\n",
    "#visualizando o df_bahia \n",
    "df_bahia.head()"
   ]
  },
  {
   "cell_type": "code",
   "execution_count": null,
   "metadata": {},
   "outputs": [],
   "source": [
    "#verificando o número de linhas antes de excluir as linhas que não coincidem MUNICIPIO E NM_MUNICIPIO\n",
    "\n",
    "df_bahia.shape"
   ]
  },
  {
   "cell_type": "code",
   "execution_count": null,
   "metadata": {},
   "outputs": [],
   "source": [
    "# Identificar as linhas perdidas após o merge\n",
    "linhas_perdidas = df_tratado.index.difference(df_bahia.index)\n",
    "\n",
    "# Exibir o número de linhas perdidas e algumas amostras dessas linhas\n",
    "print(\"Número de linhas perdidas após o merge:\", len(linhas_perdidas))\n",
    "print(\"Amostras de linhas perdidas:\")\n",
    "print(df_tratado.loc[linhas_perdidas].head())\n",
    "\n",
    "\n",
    "# Verificar se há linhas duplicadas no DataFrame resultante\n",
    "linhas_duplicadas = df_bahia[df_bahia.duplicated()].index\n",
    "\n",
    "print(\"\\nNúmero de linhas duplicadas no DataFrame resultante:\", len(linhas_duplicadas))"
   ]
  },
  {
   "cell_type": "code",
   "execution_count": null,
   "metadata": {},
   "outputs": [],
   "source": [
    "#contador de quantas linhas que não coincidem entre as colunas MUNICIPIO e NM_MUNICIPIO\n",
    "\n",
    "linhas_nao_coincidentes = (df_bahia['MUNICIPIO'] != df_bahia['NM_MUNICIPIO']).sum()\n",
    "\n",
    "print(linhas_nao_coincidentes)\n"
   ]
  },
  {
   "cell_type": "code",
   "execution_count": null,
   "metadata": {},
   "outputs": [],
   "source": [
    "#visualizando as linhas onde as colunas MUNICIPIO e NM_MUNICIPIO não coincidem\n",
    "\n",
    "linhas_nao_coincidentes = df_bahia[df_bahia['MUNICIPIO'] != df_bahia['NM_MUNICIPIO']]\n",
    "\n",
    "municipios_nao_coincidentes = linhas_nao_coincidentes[['MUNICIPIO', 'NM_MUNICIPIO']]\n",
    "print(municipios_nao_coincidentes)"
   ]
  },
  {
   "cell_type": "code",
   "execution_count": null,
   "metadata": {},
   "outputs": [],
   "source": [
    "#excluindo as linhas onde as colunas MUNICIPIO e NM_MUNICIPIO não coincidem\n",
    "\n",
    "df_bahia = df_bahia.drop(df_bahia[df_bahia['MUNICIPIO'] != df_bahia['NM_MUNICIPIO']].index)\n"
   ]
  },
  {
   "cell_type": "code",
   "execution_count": null,
   "metadata": {},
   "outputs": [],
   "source": [
    "#verificando novamente se há linhas que não coincidem entre as colunas MUNICIPIO E NM_MUNICIPIO\n",
    "\n",
    "linhas_nao_coincidentes = (df_bahia['MUNICIPIO'] != df_bahia['NM_MUNICIPIO']).sum()\n",
    "\n",
    "print(linhas_nao_coincidentes)"
   ]
  },
  {
   "cell_type": "code",
   "execution_count": null,
   "metadata": {},
   "outputs": [],
   "source": [
    "#veificando o número de linhas após a exclusão\n",
    "\n",
    "df_bahia.shape"
   ]
  },
  {
   "cell_type": "code",
   "execution_count": null,
   "metadata": {},
   "outputs": [],
   "source": [
    "#excluindo as colunas MUNICIPIO e Codigo, mantendo a coluna NM_MUNICIPIO\n",
    "df_bahia = df_bahia.drop(columns=['MUNICIPIO', 'Codigo'])\n",
    "\n",
    "#renomeando a coluna geometry para GEOMETRY\n",
    "df_bahia = df_bahia.rename(columns={'geometry': 'GEOMETRY'})\n",
    "\n",
    "#inserindo a coluna GEOMETRY para a posição 9 para ficar ao lado da coluna NM_MUNICIPIO\n",
    "df_bahia.insert(6, 'GEOMETRY', df_bahia.pop('GEOMETRY'))\n",
    "\n",
    "\n",
    "df_bahia.head()"
   ]
  },
  {
   "cell_type": "code",
   "execution_count": null,
   "metadata": {},
   "outputs": [],
   "source": [
    "#verificando os polígonos no dataset após o tratamento\n",
    "\n",
    "df_municipio_agrupado = df_bahia.groupby('NM_MUNICIPIO').first().reset_index()\n",
    "\n",
    "gdf_municipio_agrupado = gpd.GeoDataFrame(df_municipio_agrupado, geometry='GEOMETRY')\n",
    "\n",
    "gdf_municipio_agrupado.plot()\n",
    "\n",
    "plt.show()"
   ]
  },
  {
   "cell_type": "code",
   "execution_count": null,
   "metadata": {},
   "outputs": [],
   "source": [
    "# Contar o número de municípios únicos em cada conjunto de dados\n",
    "num_municipios_bahia= df_bahia['NM_MUNICIPIO'].nunique()\n",
    "num_municipios_agrupado = df_municipio_agrupado['NM_MUNICIPIO'].nunique()\n",
    "\n",
    "print(num_municipios_bahia)\n",
    "print(num_municipios_agrupado)\n"
   ]
  }
 ],
 "metadata": {
  "kernelspec": {
   "display_name": "Python 3",
   "language": "python",
   "name": "python3"
  },
  "language_info": {
   "codemirror_mode": {
    "name": "ipython",
    "version": 3
   },
   "file_extension": ".py",
   "mimetype": "text/x-python",
   "name": "python",
   "nbconvert_exporter": "python",
   "pygments_lexer": "ipython3",
   "version": "3.11.5"
  }
 },
 "nbformat": 4,
 "nbformat_minor": 2
}
